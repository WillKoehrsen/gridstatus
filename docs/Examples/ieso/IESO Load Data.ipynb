{
 "cells": [
  {
   "attachments": {},
   "cell_type": "markdown",
   "metadata": {},
   "source": [
    "# IESO Load Examples  \n",
    "\n",
    "Retrieves data from the Independent Electricity System Operator of Canada. https://www.ieso.ca/"
   ]
  },
  {
   "cell_type": "code",
   "execution_count": 1,
   "metadata": {},
   "outputs": [
    {
     "data": {
      "text/html": [
       "<pre style=\"white-space:pre;overflow-x:auto;line-height:normal;font-family:Menlo,'DejaVu Sans Mono',consolas,'Courier New',monospace\">                                      Name     Id  Class\n",
       "<span style=\"color: #008080; text-decoration-color: #008080; font-weight: bold\">0</span>                         Midcontinent ISO   miso   MISO\n",
       "<span style=\"color: #008080; text-decoration-color: #008080; font-weight: bold\">1</span>                           California ISO  caiso  CAISO\n",
       "<span style=\"color: #008080; text-decoration-color: #008080; font-weight: bold\">2</span>                                      PJM    pjm    PJM\n",
       "<span style=\"color: #008080; text-decoration-color: #008080; font-weight: bold\">3</span>    Electric Reliability Council of Texas  ercot  Ercot\n",
       "<span style=\"color: #008080; text-decoration-color: #008080; font-weight: bold\">4</span>                     Southwest Power Pool    spp    SPP\n",
       "<span style=\"color: #008080; text-decoration-color: #008080; font-weight: bold\">5</span>                             New York ISO  nyiso  NYISO\n",
       "<span style=\"color: #008080; text-decoration-color: #008080; font-weight: bold\">6</span>                          ISO New England  isone  ISONE\n",
       "<span style=\"color: #008080; text-decoration-color: #008080; font-weight: bold\">7</span>  Independent Electricity System Operator   ieso   IESO\n",
       "</pre>\n"
      ],
      "text/plain": [
       "                                      Name     Id  Class\n",
       "\u001b[1;36m0\u001b[0m                         Midcontinent ISO   miso   MISO\n",
       "\u001b[1;36m1\u001b[0m                           California ISO  caiso  CAISO\n",
       "\u001b[1;36m2\u001b[0m                                      PJM    pjm    PJM\n",
       "\u001b[1;36m3\u001b[0m    Electric Reliability Council of Texas  ercot  Ercot\n",
       "\u001b[1;36m4\u001b[0m                     Southwest Power Pool    spp    SPP\n",
       "\u001b[1;36m5\u001b[0m                             New York ISO  nyiso  NYISO\n",
       "\u001b[1;36m6\u001b[0m                          ISO New England  isone  ISONE\n",
       "\u001b[1;36m7\u001b[0m  Independent Electricity System Operator   ieso   IESO\n"
      ]
     },
     "metadata": {},
     "output_type": "display_data"
    }
   ],
   "source": [
    "import pandas as pd\n",
    "import gridstatus\n",
    "from gridstatus.ieso import IESO\n",
    "\n",
    "ieso = IESO()\n",
    "print(gridstatus.list_isos())"
   ]
  },
  {
   "cell_type": "markdown",
   "metadata": {},
   "source": [
    "## Get Five Minute Load\n",
    "\n",
    "Five minute load for the market and Ontario. From http://reports.ieso.ca/public/RealtimeConstTotals/"
   ]
  },
  {
   "cell_type": "code",
   "execution_count": 2,
   "metadata": {},
   "outputs": [
    {
     "name": "stderr",
     "output_type": "stream",
     "text": [
      "100%|██████████████████████████████████████████████████████████████████████████████████████████████████████████████████████████████████████████████████████████████████████████████████████████████████████████████████████████████████████████████████████████████████████████████████████████| 24/24 [00:02<00:00,  8.75it/s]\n"
     ]
    },
    {
     "data": {
      "text/html": [
       "<div>\n",
       "<style scoped>\n",
       "    .dataframe tbody tr th:only-of-type {\n",
       "        vertical-align: middle;\n",
       "    }\n",
       "\n",
       "    .dataframe tbody tr th {\n",
       "        vertical-align: top;\n",
       "    }\n",
       "\n",
       "    .dataframe thead th {\n",
       "        text-align: right;\n",
       "    }\n",
       "</style>\n",
       "<table border=\"1\" class=\"dataframe\">\n",
       "  <thead>\n",
       "    <tr style=\"text-align: right;\">\n",
       "      <th></th>\n",
       "      <th>Interval Start</th>\n",
       "      <th>Interval End</th>\n",
       "      <th>Market Total Load</th>\n",
       "      <th>Ontario Load</th>\n",
       "    </tr>\n",
       "  </thead>\n",
       "  <tbody>\n",
       "    <tr>\n",
       "      <th>0</th>\n",
       "      <td>2023-12-31 00:00:00-05:00</td>\n",
       "      <td>2023-12-31 00:05:00-05:00</td>\n",
       "      <td>16_958.2000</td>\n",
       "      <td>14_493.9000</td>\n",
       "    </tr>\n",
       "    <tr>\n",
       "      <th>1</th>\n",
       "      <td>2023-12-31 00:05:00-05:00</td>\n",
       "      <td>2023-12-31 00:10:00-05:00</td>\n",
       "      <td>16_890.6000</td>\n",
       "      <td>14_428.5000</td>\n",
       "    </tr>\n",
       "    <tr>\n",
       "      <th>2</th>\n",
       "      <td>2023-12-31 00:10:00-05:00</td>\n",
       "      <td>2023-12-31 00:15:00-05:00</td>\n",
       "      <td>16_892.0000</td>\n",
       "      <td>14_428.1000</td>\n",
       "    </tr>\n",
       "    <tr>\n",
       "      <th>3</th>\n",
       "      <td>2023-12-31 00:15:00-05:00</td>\n",
       "      <td>2023-12-31 00:20:00-05:00</td>\n",
       "      <td>16_832.6000</td>\n",
       "      <td>14_370.2000</td>\n",
       "    </tr>\n",
       "    <tr>\n",
       "      <th>4</th>\n",
       "      <td>2023-12-31 00:20:00-05:00</td>\n",
       "      <td>2023-12-31 00:25:00-05:00</td>\n",
       "      <td>16_728.7000</td>\n",
       "      <td>14_260.0000</td>\n",
       "    </tr>\n",
       "  </tbody>\n",
       "</table>\n",
       "</div>"
      ],
      "text/plain": [
       "             Interval Start              Interval End  Market Total Load  \\\n",
       "0 2023-12-31 00:00:00-05:00 2023-12-31 00:05:00-05:00        16_958.2000   \n",
       "1 2023-12-31 00:05:00-05:00 2023-12-31 00:10:00-05:00        16_890.6000   \n",
       "2 2023-12-31 00:10:00-05:00 2023-12-31 00:15:00-05:00        16_892.0000   \n",
       "3 2023-12-31 00:15:00-05:00 2023-12-31 00:20:00-05:00        16_832.6000   \n",
       "4 2023-12-31 00:20:00-05:00 2023-12-31 00:25:00-05:00        16_728.7000   \n",
       "\n",
       "   Ontario Load  \n",
       "0   14_493.9000  \n",
       "1   14_428.5000  \n",
       "2   14_428.1000  \n",
       "3   14_370.2000  \n",
       "4   14_260.0000  "
      ]
     },
     "execution_count": 2,
     "metadata": {},
     "output_type": "execute_result"
    }
   ],
   "source": [
    "yesterday_start = pd.Timestamp.now().normalize() - pd.Timedelta(days=1)\n",
    "today_start = yesterday_start + pd.Timedelta(days=1)\n",
    "\n",
    "load = ieso.get_load(date=yesterday_start, end=today_start)\n",
    "load.head(5)"
   ]
  },
  {
   "cell_type": "markdown",
   "metadata": {},
   "source": [
    "## Load Forecast\n",
    "\n",
    "Hourly load forecast for Ontario through tomorrow. https://www.ieso.ca/-/media/Files/IESO/Power-Data/Ontario-Demand-multiday.ashx"
   ]
  },
  {
   "cell_type": "code",
   "execution_count": 3,
   "metadata": {},
   "outputs": [
    {
     "data": {
      "text/html": [
       "<div>\n",
       "<style scoped>\n",
       "    .dataframe tbody tr th:only-of-type {\n",
       "        vertical-align: middle;\n",
       "    }\n",
       "\n",
       "    .dataframe tbody tr th {\n",
       "        vertical-align: top;\n",
       "    }\n",
       "\n",
       "    .dataframe thead th {\n",
       "        text-align: right;\n",
       "    }\n",
       "</style>\n",
       "<table border=\"1\" class=\"dataframe\">\n",
       "  <thead>\n",
       "    <tr style=\"text-align: right;\">\n",
       "      <th></th>\n",
       "      <th>Interval Start</th>\n",
       "      <th>Interval End</th>\n",
       "      <th>Publish Time</th>\n",
       "      <th>Ontario Load Forecast</th>\n",
       "    </tr>\n",
       "  </thead>\n",
       "  <tbody>\n",
       "    <tr>\n",
       "      <th>0</th>\n",
       "      <td>2023-12-27 00:00:00-05:00</td>\n",
       "      <td>2023-12-27 01:00:00-05:00</td>\n",
       "      <td>2024-01-01 19:22:18-05:00</td>\n",
       "      <td>13_926.0000</td>\n",
       "    </tr>\n",
       "    <tr>\n",
       "      <th>1</th>\n",
       "      <td>2023-12-27 01:00:00-05:00</td>\n",
       "      <td>2023-12-27 02:00:00-05:00</td>\n",
       "      <td>2024-01-01 19:22:18-05:00</td>\n",
       "      <td>13_281.0000</td>\n",
       "    </tr>\n",
       "    <tr>\n",
       "      <th>2</th>\n",
       "      <td>2023-12-27 02:00:00-05:00</td>\n",
       "      <td>2023-12-27 03:00:00-05:00</td>\n",
       "      <td>2024-01-01 19:22:18-05:00</td>\n",
       "      <td>12_817.0000</td>\n",
       "    </tr>\n",
       "    <tr>\n",
       "      <th>3</th>\n",
       "      <td>2023-12-27 03:00:00-05:00</td>\n",
       "      <td>2023-12-27 04:00:00-05:00</td>\n",
       "      <td>2024-01-01 19:22:18-05:00</td>\n",
       "      <td>12_526.0000</td>\n",
       "    </tr>\n",
       "    <tr>\n",
       "      <th>4</th>\n",
       "      <td>2023-12-27 04:00:00-05:00</td>\n",
       "      <td>2023-12-27 05:00:00-05:00</td>\n",
       "      <td>2024-01-01 19:22:18-05:00</td>\n",
       "      <td>12_453.0000</td>\n",
       "    </tr>\n",
       "  </tbody>\n",
       "</table>\n",
       "</div>"
      ],
      "text/plain": [
       "             Interval Start              Interval End  \\\n",
       "0 2023-12-27 00:00:00-05:00 2023-12-27 01:00:00-05:00   \n",
       "1 2023-12-27 01:00:00-05:00 2023-12-27 02:00:00-05:00   \n",
       "2 2023-12-27 02:00:00-05:00 2023-12-27 03:00:00-05:00   \n",
       "3 2023-12-27 03:00:00-05:00 2023-12-27 04:00:00-05:00   \n",
       "4 2023-12-27 04:00:00-05:00 2023-12-27 05:00:00-05:00   \n",
       "\n",
       "               Publish Time  Ontario Load Forecast  \n",
       "0 2024-01-01 19:22:18-05:00            13_926.0000  \n",
       "1 2024-01-01 19:22:18-05:00            13_281.0000  \n",
       "2 2024-01-01 19:22:18-05:00            12_817.0000  \n",
       "3 2024-01-01 19:22:18-05:00            12_526.0000  \n",
       "4 2024-01-01 19:22:18-05:00            12_453.0000  "
      ]
     },
     "execution_count": 3,
     "metadata": {},
     "output_type": "execute_result"
    }
   ],
   "source": [
    "load_forecast = ieso.get_load_forecast(\"latest\")\n",
    "load_forecast.head(5)"
   ]
  },
  {
   "cell_type": "markdown",
   "metadata": {},
   "source": [
    "## Zonal Load Forecast\n",
    "\n",
    "Hourly zonal load forecast up to 34 days in the future for Ontario, East, and West. http://reports.ieso.ca/public/OntarioZonalDemand"
   ]
  },
  {
   "cell_type": "code",
   "execution_count": 4,
   "metadata": {},
   "outputs": [
    {
     "data": {
      "text/html": [
       "<div>\n",
       "<style scoped>\n",
       "    .dataframe tbody tr th:only-of-type {\n",
       "        vertical-align: middle;\n",
       "    }\n",
       "\n",
       "    .dataframe tbody tr th {\n",
       "        vertical-align: top;\n",
       "    }\n",
       "\n",
       "    .dataframe thead th {\n",
       "        text-align: right;\n",
       "    }\n",
       "</style>\n",
       "<table border=\"1\" class=\"dataframe\">\n",
       "  <thead>\n",
       "    <tr style=\"text-align: right;\">\n",
       "      <th></th>\n",
       "      <th>Interval Start</th>\n",
       "      <th>Interval End</th>\n",
       "      <th>Publish Time</th>\n",
       "      <th>Ontario Load Forecast</th>\n",
       "      <th>East Load Forecast</th>\n",
       "      <th>West Load Forecast</th>\n",
       "    </tr>\n",
       "  </thead>\n",
       "  <tbody>\n",
       "    <tr>\n",
       "      <th>835</th>\n",
       "      <td>2024-02-04 19:00:00-05:00</td>\n",
       "      <td>2024-02-04 20:00:00-05:00</td>\n",
       "      <td>2024-01-01 09:01:46-05:00</td>\n",
       "      <td>18_364.0000</td>\n",
       "      <td>17_756.0000</td>\n",
       "      <td>608.0000</td>\n",
       "    </tr>\n",
       "    <tr>\n",
       "      <th>836</th>\n",
       "      <td>2024-02-04 20:00:00-05:00</td>\n",
       "      <td>2024-02-04 21:00:00-05:00</td>\n",
       "      <td>2024-01-01 09:01:46-05:00</td>\n",
       "      <td>17_917.0000</td>\n",
       "      <td>17_309.0000</td>\n",
       "      <td>608.0000</td>\n",
       "    </tr>\n",
       "    <tr>\n",
       "      <th>837</th>\n",
       "      <td>2024-02-04 21:00:00-05:00</td>\n",
       "      <td>2024-02-04 22:00:00-05:00</td>\n",
       "      <td>2024-01-01 09:01:46-05:00</td>\n",
       "      <td>17_347.0000</td>\n",
       "      <td>16_747.0000</td>\n",
       "      <td>600.0000</td>\n",
       "    </tr>\n",
       "    <tr>\n",
       "      <th>838</th>\n",
       "      <td>2024-02-04 22:00:00-05:00</td>\n",
       "      <td>2024-02-04 23:00:00-05:00</td>\n",
       "      <td>2024-01-01 09:01:46-05:00</td>\n",
       "      <td>16_659.0000</td>\n",
       "      <td>16_065.0000</td>\n",
       "      <td>594.0000</td>\n",
       "    </tr>\n",
       "    <tr>\n",
       "      <th>839</th>\n",
       "      <td>2024-02-04 23:00:00-05:00</td>\n",
       "      <td>2024-02-05 00:00:00-05:00</td>\n",
       "      <td>2024-01-01 09:01:46-05:00</td>\n",
       "      <td>15_943.0000</td>\n",
       "      <td>15_357.0000</td>\n",
       "      <td>586.0000</td>\n",
       "    </tr>\n",
       "  </tbody>\n",
       "</table>\n",
       "</div>"
      ],
      "text/plain": [
       "               Interval Start              Interval End  \\\n",
       "835 2024-02-04 19:00:00-05:00 2024-02-04 20:00:00-05:00   \n",
       "836 2024-02-04 20:00:00-05:00 2024-02-04 21:00:00-05:00   \n",
       "837 2024-02-04 21:00:00-05:00 2024-02-04 22:00:00-05:00   \n",
       "838 2024-02-04 22:00:00-05:00 2024-02-04 23:00:00-05:00   \n",
       "839 2024-02-04 23:00:00-05:00 2024-02-05 00:00:00-05:00   \n",
       "\n",
       "                 Publish Time  Ontario Load Forecast  East Load Forecast  \\\n",
       "835 2024-01-01 09:01:46-05:00            18_364.0000         17_756.0000   \n",
       "836 2024-01-01 09:01:46-05:00            17_917.0000         17_309.0000   \n",
       "837 2024-01-01 09:01:46-05:00            17_347.0000         16_747.0000   \n",
       "838 2024-01-01 09:01:46-05:00            16_659.0000         16_065.0000   \n",
       "839 2024-01-01 09:01:46-05:00            15_943.0000         15_357.0000   \n",
       "\n",
       "     West Load Forecast  \n",
       "835            608.0000  \n",
       "836            608.0000  \n",
       "837            600.0000  \n",
       "838            594.0000  \n",
       "839            586.0000  "
      ]
     },
     "execution_count": 4,
     "metadata": {},
     "output_type": "execute_result"
    }
   ],
   "source": [
    "zonal_load_forecast = ieso.get_zonal_load_forecast(\"latest\")\n",
    "zonal_load_forecast.tail(5)"
   ]
  },
  {
   "cell_type": "code",
   "execution_count": null,
   "metadata": {},
   "outputs": [],
   "source": []
  }
 ],
 "metadata": {
  "kernelspec": {
   "display_name": "Python 3 (ipykernel)",
   "language": "python",
   "name": "python3"
  },
  "language_info": {
   "codemirror_mode": {
    "name": "ipython",
    "version": 3
   },
   "file_extension": ".py",
   "mimetype": "text/x-python",
   "name": "python",
   "nbconvert_exporter": "python",
   "pygments_lexer": "ipython3",
   "version": "3.11.6"
  }
 },
 "nbformat": 4,
 "nbformat_minor": 4
}
